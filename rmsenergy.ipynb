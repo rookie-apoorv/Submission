{
 "cells": [
  {
   "cell_type": "code",
   "execution_count": 1,
   "metadata": {},
   "outputs": [
    {
     "name": "stdout",
     "output_type": "stream",
     "text": [
      "RMS energy statistics saved to master_rms_energy_statistics.csv\n"
     ]
    }
   ],
   "source": [
    "import glob\n",
    "import numpy as np\n",
    "import pandas as pd\n",
    "from scipy.stats import skew, kurtosis\n",
    "\n",
    "# Directory containing the individual song CSV files\n",
    "# song_directory = \"path_to_your_song_csv_files\"  # Replace with the path to your CSV files\n",
    "output_file = \"master_rms_energy_statistics.csv\"  # Master output file\n",
    "\n",
    "# List to store statistics for each song\n",
    "rms_stats_list = []\n",
    "files = glob.glob('*-MFCC.csv')\n",
    "# Process each song CSV file in the directory\n",
    "for filename in files:\n",
    "\n",
    "        # Load the MFCC data for the song\n",
    "       \n",
    "        mfcc_data = pd.read_csv(filename)\n",
    "\n",
    "        # Compute RMS energy per time frame (column-wise)\n",
    "        rms_energy_approx = np.sqrt(np.sum(mfcc_data**2, axis=0))\n",
    "\n",
    "        # Calculate RMS energy statistics\n",
    "        rms_stats = {\n",
    "            \"Song\": filename,\n",
    "            \"Mean_RMS\": np.mean(rms_energy_approx),\n",
    "            \"STD_RMS\": np.std(rms_energy_approx),\n",
    "            \"Min_RMS\": np.min(rms_energy_approx),\n",
    "            \"Max_RMS\": np.max(rms_energy_approx),\n",
    "            \"Skew_RMS\": skew(rms_energy_approx),\n",
    "            \"Kurtosis_RMS\": kurtosis(rms_energy_approx),\n",
    "            \"25th_Percentile_RMS\": np.percentile(rms_energy_approx, 25),\n",
    "            \"Median_RMS\": np.percentile(rms_energy_approx, 50),\n",
    "            \"75th_Percentile_RMS\": np.percentile(rms_energy_approx, 75)\n",
    "        }\n",
    "\n",
    "        # Append stats to the list\n",
    "        rms_stats_list.append(rms_stats)\n",
    "\n",
    "# Create a DataFrame from the list of statistics\n",
    "master_df = pd.DataFrame(rms_stats_list)\n",
    "\n",
    "# Save the DataFrame to a master CSV file\n",
    "master_df.to_csv(output_file, index=False)\n",
    "\n",
    "print(f\"RMS energy statistics saved to {output_file}\")\n"
   ]
  },
  {
   "cell_type": "code",
   "execution_count": null,
   "metadata": {},
   "outputs": [],
   "source": []
  },
  {
   "cell_type": "code",
   "execution_count": null,
   "metadata": {},
   "outputs": [],
   "source": []
  }
 ],
 "metadata": {
  "kernelspec": {
   "display_name": "Python 3",
   "language": "python",
   "name": "python3"
  },
  "language_info": {
   "codemirror_mode": {
    "name": "ipython",
    "version": 3
   },
   "file_extension": ".py",
   "mimetype": "text/x-python",
   "name": "python",
   "nbconvert_exporter": "python",
   "pygments_lexer": "ipython3",
   "version": "3.11.8"
  }
 },
 "nbformat": 4,
 "nbformat_minor": 2
}
