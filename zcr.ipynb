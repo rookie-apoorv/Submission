{
 "cells": [
  {
   "cell_type": "code",
   "execution_count": 4,
   "metadata": {},
   "outputs": [
    {
     "name": "stdout",
     "output_type": "stream",
     "text": [
      "Approximate ZCR from first MFCC: 0.0001753155680224404\n",
      "Approximate ZCR from delta MFCCs: 0.3820264634236363\n"
     ]
    }
   ],
   "source": [
    "import numpy as np\n",
    "import pandas as pd\n",
    "\n",
    "# Load MFCC data from CSV (rows = MFCC coefficients, columns = time stamps)\n",
    "# Replace 'your_mfcc_file.csv' with your actual file path\n",
    "df = pd.read_csv(\"16-MFCC.csv\")\n",
    "\n",
    "# Option 1: Approximate ZCR using the first MFCC coefficient (MFCC_0)\n",
    "mfcc_0 = df.iloc[0, :]  # Select the first row (first MFCC coefficient)\n",
    "zcr_approx = np.mean(np.diff(np.sign(mfcc_0)) != 0)  # Count zero-crossings\n",
    "print(f\"Approximate ZCR from first MFCC: {zcr_approx}\")\n",
    "\n",
    "# Option 2: Approximate ZCR using Delta of all MFCCs\n",
    "delta_mfcc = df.diff(axis=1)  # Compute the delta MFCCs along time axis (columns)\n",
    "zcr_delta_mfcc = np.mean((np.diff(np.sign(delta_mfcc), axis=1) != 0).mean(axis=0))\n",
    "print(f\"Approximate ZCR from delta MFCCs: {zcr_delta_mfcc}\")\n"
   ]
  },
  {
   "cell_type": "code",
   "execution_count": 6,
   "metadata": {},
   "outputs": [
    {
     "name": "stdout",
     "output_type": "stream",
     "text": [
      "Approximate ZCR from first MFCC: 0.00032509752925877764\n",
      "Approximate ZCR from delta MFCCs: 0.4522106631989597\n"
     ]
    }
   ],
   "source": [
    "import numpy as np\n",
    "import pandas as pd\n",
    "\n",
    "# Load MFCC data from CSV (rows = MFCC coefficients, columns = time stamps)\n",
    "# Replace 'your_mfcc_file.csv' with your actual file path\n",
    "df = pd.read_csv(\"02-MFCC.csv\")\n",
    "\n",
    "# Option 1: Approximate ZCR using the first MFCC coefficient (MFCC_0)\n",
    "mfcc_0 = df.iloc[0, :]  # Select the first row (first MFCC coefficient)\n",
    "zcr_approx = np.mean(np.diff(np.sign(mfcc_0)) != 0)  # Count zero-crossings\n",
    "print(f\"Approximate ZCR from first MFCC: {zcr_approx}\")\n",
    "\n",
    "# Option 2: Approximate ZCR using Delta of all MFCCs\n",
    "delta_mfcc = df.diff(axis=1)  # Compute the delta MFCCs along time axis (columns)\n",
    "zcr_delta_mfcc = np.mean((np.diff(np.sign(delta_mfcc), axis=1) != 0).mean(axis=0))\n",
    "print(f\"Approximate ZCR from delta MFCCs: {zcr_delta_mfcc}\")\n"
   ]
  },
  {
   "cell_type": "code",
   "execution_count": null,
   "metadata": {},
   "outputs": [],
   "source": []
  }
 ],
 "metadata": {
  "kernelspec": {
   "display_name": "Python 3",
   "language": "python",
   "name": "python3"
  },
  "language_info": {
   "codemirror_mode": {
    "name": "ipython",
    "version": 3
   },
   "file_extension": ".py",
   "mimetype": "text/x-python",
   "name": "python",
   "nbconvert_exporter": "python",
   "pygments_lexer": "ipython3",
   "version": "3.11.8"
  }
 },
 "nbformat": 4,
 "nbformat_minor": 2
}
