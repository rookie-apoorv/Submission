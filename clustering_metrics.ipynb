{
 "cells": [
  {
   "cell_type": "code",
   "execution_count": 2,
   "metadata": {},
   "outputs": [],
   "source": [
    "import pandas as pd\n",
    "from sklearn.metrics import silhouette_score,calinski_harabasz_score, davies_bouldin_score\n",
    "\n"
   ]
  },
  {
   "cell_type": "code",
   "execution_count": 9,
   "metadata": {},
   "outputs": [
    {
     "name": "stdout",
     "output_type": "stream",
     "text": [
      "Silhouette Score: 0.07608743558183748\n",
      "Calinski-Harabasz Index: 23.722168426686725\n",
      "Davies-Bouldin Index: 2.9295934257137177\n"
     ]
    }
   ],
   "source": [
    "# Load the CSV file\n",
    "data = pd.read_csv(\"Clustering_on_means.csv\")\n",
    "\n",
    "# Extract features and labels\n",
    "features = data.iloc[:, 2:-1]  # All columns except the first two and last\n",
    "labels = data.iloc[:, -1]  # Last column as labels\n",
    "\n",
    "# Calculate the silhouette score\n",
    "score = silhouette_score(features, labels)\n",
    "calinski_harabasz = calinski_harabasz_score(features, labels)\n",
    "davies_bouldin = davies_bouldin_score(features, labels)\n",
    "print(f'Silhouette Score: {score}')\n",
    "print(f'Calinski-Harabasz Index: {calinski_harabasz}')\n",
    "print(f'Davies-Bouldin Index: {davies_bouldin}')"
   ]
  },
  {
   "cell_type": "code",
   "execution_count": 10,
   "metadata": {},
   "outputs": [
    {
     "name": "stdout",
     "output_type": "stream",
     "text": [
      "Silhouette Score: 0.08273058079819248\n",
      "Calinski-Harabasz Index: 17.295728320272968\n",
      "Davies-Bouldin Index: 2.575427695486227\n"
     ]
    }
   ],
   "source": [
    "# Load the CSV file\n",
    "data = pd.read_csv(\"Clustering_on_means_std.csv\")\n",
    "\n",
    "# Extract features and labels\n",
    "features = data.iloc[:, 2:-1]  # All columns except the first two and last\n",
    "labels = data.iloc[:, -1]  # Last column as labels\n",
    "\n",
    "# Calculate the silhouette score\n",
    "score = silhouette_score(features, labels)\n",
    "calinski_harabasz = calinski_harabasz_score(features, labels)\n",
    "davies_bouldin = davies_bouldin_score(features, labels)\n",
    "print(f'Silhouette Score: {score}')\n",
    "print(f'Calinski-Harabasz Index: {calinski_harabasz}')\n",
    "print(f'Davies-Bouldin Index: {davies_bouldin}')"
   ]
  },
  {
   "cell_type": "code",
   "execution_count": 11,
   "metadata": {},
   "outputs": [
    {
     "name": "stdout",
     "output_type": "stream",
     "text": [
      "Silhouette Score: 0.012962634661415926\n",
      "Calinski-Harabasz Index: 12.400307978987817\n",
      "Davies-Bouldin Index: 3.295273753999179\n"
     ]
    }
   ],
   "source": [
    "# Load the CSV file\n",
    "data = pd.read_csv(\"Clustering_on_means_std_skew_kurtoses.csv\")\n",
    "\n",
    "# Extract features and labels\n",
    "features = data.iloc[:, 2:-1]  # All columns except the first two and last\n",
    "labels = data.iloc[:, -1]  # Last column as labels\n",
    "\n",
    "# Calculate the silhouette score\n",
    "score = silhouette_score(features, labels)\n",
    "calinski_harabasz = calinski_harabasz_score(features, labels)\n",
    "davies_bouldin = davies_bouldin_score(features, labels)\n",
    "print(f'Silhouette Score: {score}')\n",
    "print(f'Calinski-Harabasz Index: {calinski_harabasz}')\n",
    "print(f'Davies-Bouldin Index: {davies_bouldin}')"
   ]
  },
  {
   "cell_type": "code",
   "execution_count": 12,
   "metadata": {},
   "outputs": [
    {
     "name": "stdout",
     "output_type": "stream",
     "text": [
      "Silhouette Score: 0.052754218099010396\n",
      "Calinski-Harabasz Index: 15.795746630590738\n",
      "Davies-Bouldin Index: 2.5251377537648043\n"
     ]
    }
   ],
   "source": [
    "# Load the CSV file\n",
    "data = pd.read_csv(\"Clustering_on_means_std_s&k_pca.csv\")\n",
    "\n",
    "# Extract features and labels\n",
    "features = data.iloc[:, 2:-1]  # All columns except the first two and last\n",
    "labels = data.iloc[:, -1]  # Last column as labels\n",
    "\n",
    "# Calculate the silhouette score\n",
    "score = silhouette_score(features, labels)\n",
    "calinski_harabasz = calinski_harabasz_score(features, labels)\n",
    "davies_bouldin = davies_bouldin_score(features, labels)\n",
    "print(f'Silhouette Score: {score}')\n",
    "print(f'Calinski-Harabasz Index: {calinski_harabasz}')\n",
    "print(f'Davies-Bouldin Index: {davies_bouldin}')"
   ]
  },
  {
   "cell_type": "code",
   "execution_count": 13,
   "metadata": {},
   "outputs": [
    {
     "name": "stdout",
     "output_type": "stream",
     "text": [
      "Silhouette Score: 0.05938719283175411\n",
      "Calinski-Harabasz Index: 15.795746630590738\n",
      "Davies-Bouldin Index: 2.5251377537648043\n"
     ]
    }
   ],
   "source": [
    "# Load the CSV file\n",
    "data = pd.read_csv(\"Clustering_on_means_std_s&k_pca_2.csv\")\n",
    "\n",
    "# Extract features and labels\n",
    "features = data.iloc[:, 2:-1]  # All columns except the first two and last\n",
    "labels = data.iloc[:, -1]  # Last column as labels\n",
    "\n",
    "# Calculate the silhouette score\n",
    "score = silhouette_score(features, labels)\n",
    "print(f'Silhouette Score: {score}')\n",
    "print(f'Calinski-Harabasz Index: {calinski_harabasz}')\n",
    "print(f'Davies-Bouldin Index: {davies_bouldin}')"
   ]
  },
  {
   "cell_type": "code",
   "execution_count": 5,
   "metadata": {},
   "outputs": [
    {
     "name": "stdout",
     "output_type": "stream",
     "text": [
      "Silhouette Score: 0.07095592325394766\n",
      "Calinski-Harabasz Index: 14.702474135223373\n",
      "Davies-Bouldin Index: 2.4455754788641006\n"
     ]
    }
   ],
   "source": [
    "# Load the CSV file\n",
    "data = pd.read_csv(\"master_cluster.csv\")\n",
    "\n",
    "# Extract features and labels\n",
    "features = data.iloc[:, 2:-1]  # All columns except the first two and last\n",
    "labels = data.iloc[:, -1]  # Last column as labels\n",
    "\n",
    "# Calculate the silhouette score\n",
    "score = silhouette_score(features, labels)\n",
    "calinski_harabasz = calinski_harabasz_score(features, labels)\n",
    "davies_bouldin = davies_bouldin_score(features, labels)\n",
    "print(f'Silhouette Score: {score}')\n",
    "print(f'Calinski-Harabasz Index: {calinski_harabasz}')\n",
    "print(f'Davies-Bouldin Index: {davies_bouldin}')"
   ]
  },
  {
   "cell_type": "code",
   "execution_count": 6,
   "metadata": {},
   "outputs": [
    {
     "name": "stdout",
     "output_type": "stream",
     "text": [
      "Silhouette Score: -0.007740098239880746\n",
      "Calinski-Harabasz Index: 9.904067270138036\n",
      "Davies-Bouldin Index: 2.9764460383965834\n"
     ]
    }
   ],
   "source": [
    "# Load the CSV file\n",
    "data = pd.read_csv(\"master_cluster_2.csv\")\n",
    "\n",
    "# Extract features and labels\n",
    "features = data.iloc[:, 2:-1]  # All columns except the first two and last\n",
    "labels = data.iloc[:, -1]  # Last column as labels\n",
    "\n",
    "# Calculate the silhouette score\n",
    "score = silhouette_score(features, labels)\n",
    "calinski_harabasz = calinski_harabasz_score(features, labels)\n",
    "davies_bouldin = davies_bouldin_score(features, labels)\n",
    "print(f'Silhouette Score: {score}')\n",
    "print(f'Calinski-Harabasz Index: {calinski_harabasz}')\n",
    "print(f'Davies-Bouldin Index: {davies_bouldin}')"
   ]
  },
  {
   "cell_type": "code",
   "execution_count": 7,
   "metadata": {},
   "outputs": [
    {
     "name": "stdout",
     "output_type": "stream",
     "text": [
      "Silhouette Score: 0.04965534857387926\n",
      "Calinski-Harabasz Index: 15.248524287653527\n",
      "Davies-Bouldin Index: 2.8123841370302043\n"
     ]
    }
   ],
   "source": [
    "# Load the CSV file\n",
    "data = pd.read_csv(\"master_cluster_3.csv\")\n",
    "\n",
    "# Extract features and labels\n",
    "features = data.iloc[:, 2:-1]  # All columns except the first two and last\n",
    "labels = data.iloc[:, -1]  # Last column as labels\n",
    "\n",
    "# Calculate the silhouette score\n",
    "score = silhouette_score(features, labels)\n",
    "calinski_harabasz = calinski_harabasz_score(features, labels)\n",
    "davies_bouldin = davies_bouldin_score(features, labels)\n",
    "print(f'Silhouette Score: {score}')\n",
    "print(f'Calinski-Harabasz Index: {calinski_harabasz}')\n",
    "print(f'Davies-Bouldin Index: {davies_bouldin}')"
   ]
  },
  {
   "cell_type": "code",
   "execution_count": 9,
   "metadata": {},
   "outputs": [
    {
     "name": "stdout",
     "output_type": "stream",
     "text": [
      "Silhouette Score: -0.061871610830608034\n",
      "Calinski-Harabasz Index: 1.3167372402598436\n",
      "Davies-Bouldin Index: 4.5678077858077755\n"
     ]
    }
   ],
   "source": [
    "# Load the CSV file\n",
    "data = pd.read_csv(\"master_cluster_pca_1.csv\")\n",
    "\n",
    "# Extract features and labels\n",
    "features = data.iloc[:, 2:-1]  # All columns except the first two and last\n",
    "labels = data.iloc[:, -1]  # Last column as labels\n",
    "\n",
    "# Calculate the silhouette score\n",
    "score = silhouette_score(features, labels)\n",
    "calinski_harabasz = calinski_harabasz_score(features, labels)\n",
    "davies_bouldin = davies_bouldin_score(features, labels)\n",
    "print(f'Silhouette Score: {score}')\n",
    "print(f'Calinski-Harabasz Index: {calinski_harabasz}')\n",
    "print(f'Davies-Bouldin Index: {davies_bouldin}')"
   ]
  },
  {
   "cell_type": "code",
   "execution_count": 11,
   "metadata": {},
   "outputs": [
    {
     "name": "stdout",
     "output_type": "stream",
     "text": [
      "Silhouette Score: -0.1399039877213242\n",
      "Calinski-Harabasz Index: 1.6660980992664234\n",
      "Davies-Bouldin Index: 4.989514280636507\n"
     ]
    }
   ],
   "source": [
    "# Load the CSV file\n",
    "data = pd.read_csv(\"master_cluster_pca_3.csv\")\n",
    "\n",
    "# Extract features and labels\n",
    "features = data.iloc[:, 2:-1]  # All columns except the first two and last\n",
    "labels = data.iloc[:, -1]  # Last column as labels\n",
    "\n",
    "# Calculate the silhouette score\n",
    "score = silhouette_score(features, labels)\n",
    "calinski_harabasz = calinski_harabasz_score(features, labels)\n",
    "davies_bouldin = davies_bouldin_score(features, labels)\n",
    "print(f'Silhouette Score: {score}')\n",
    "print(f'Calinski-Harabasz Index: {calinski_harabasz}')\n",
    "print(f'Davies-Bouldin Index: {davies_bouldin}')"
   ]
  },
  {
   "cell_type": "code",
   "execution_count": 12,
   "metadata": {},
   "outputs": [
    {
     "name": "stdout",
     "output_type": "stream",
     "text": [
      "Silhouette Score: 0.46984603944437664\n",
      "Calinski-Harabasz Index: 229.01361287863276\n",
      "Davies-Bouldin Index: 0.7570030145557275\n"
     ]
    }
   ],
   "source": [
    "# Load the CSV file\n",
    "data = pd.read_csv(\"master_cluster_umap_1.csv\")\n",
    "\n",
    "# Extract features and labels\n",
    "features = data.iloc[:, 2:-1]  # All columns except the first two and last\n",
    "labels = data.iloc[:, -1]  # Last column as labels\n",
    "\n",
    "# Calculate the silhouette score\n",
    "score = silhouette_score(features, labels)\n",
    "calinski_harabasz = calinski_harabasz_score(features, labels)\n",
    "davies_bouldin = davies_bouldin_score(features, labels)\n",
    "print(f'Silhouette Score: {score}')\n",
    "print(f'Calinski-Harabasz Index: {calinski_harabasz}')\n",
    "print(f'Davies-Bouldin Index: {davies_bouldin}')"
   ]
  },
  {
   "cell_type": "code",
   "execution_count": 13,
   "metadata": {},
   "outputs": [
    {
     "name": "stdout",
     "output_type": "stream",
     "text": [
      "Silhouette Score: 0.46834100887883945\n",
      "Calinski-Harabasz Index: 291.8494422941221\n",
      "Davies-Bouldin Index: 0.7437963657171675\n"
     ]
    }
   ],
   "source": [
    "# Load the CSV file\n",
    "data = pd.read_csv(\"master_cluster_umap_3.csv\")\n",
    "\n",
    "# Extract features and labels\n",
    "features = data.iloc[:, 2:-1]  # All columns except the first two and last\n",
    "labels = data.iloc[:, -1]  # Last column as labels\n",
    "\n",
    "# Calculate the silhouette score\n",
    "score = silhouette_score(features, labels)\n",
    "calinski_harabasz = calinski_harabasz_score(features, labels)\n",
    "davies_bouldin = davies_bouldin_score(features, labels)\n",
    "print(f'Silhouette Score: {score}')\n",
    "print(f'Calinski-Harabasz Index: {calinski_harabasz}')\n",
    "print(f'Davies-Bouldin Index: {davies_bouldin}')"
   ]
  },
  {
   "cell_type": "code",
   "execution_count": 14,
   "metadata": {},
   "outputs": [
    {
     "name": "stdout",
     "output_type": "stream",
     "text": [
      "Silhouette Score: 0.46808588116610494\n",
      "Calinski-Harabasz Index: 212.26091263928782\n",
      "Davies-Bouldin Index: 0.854543622132316\n"
     ]
    }
   ],
   "source": [
    "# Load the CSV file\n",
    "data = pd.read_csv(\"master_cluster_umap_1_(25).csv\")\n",
    "\n",
    "# Extract features and labels\n",
    "features = data.iloc[:, 2:-1]  # All columns except the first two and last\n",
    "labels = data.iloc[:, -1]  # Last column as labels\n",
    "\n",
    "# Calculate the silhouette score\n",
    "score = silhouette_score(features, labels)\n",
    "calinski_harabasz = calinski_harabasz_score(features, labels)\n",
    "davies_bouldin = davies_bouldin_score(features, labels)\n",
    "print(f'Silhouette Score: {score}')\n",
    "print(f'Calinski-Harabasz Index: {calinski_harabasz}')\n",
    "print(f'Davies-Bouldin Index: {davies_bouldin}')"
   ]
  },
  {
   "cell_type": "code",
   "execution_count": 15,
   "metadata": {},
   "outputs": [
    {
     "name": "stdout",
     "output_type": "stream",
     "text": [
      "Silhouette Score: 0.4455679943713472\n",
      "Calinski-Harabasz Index: 203.02637039741973\n",
      "Davies-Bouldin Index: 0.8290194060118093\n"
     ]
    }
   ],
   "source": [
    "# Load the CSV file\n",
    "data = pd.read_csv(\"master_cluster_umap_1_(15).csv\")\n",
    "\n",
    "# Extract features and labels\n",
    "features = data.iloc[:, 2:-1]  # All columns except the first two and last\n",
    "labels = data.iloc[:, -1]  # Last column as labels\n",
    "\n",
    "# Calculate the silhouette score\n",
    "score = silhouette_score(features, labels)\n",
    "calinski_harabasz = calinski_harabasz_score(features, labels)\n",
    "davies_bouldin = davies_bouldin_score(features, labels)\n",
    "print(f'Silhouette Score: {score}')\n",
    "print(f'Calinski-Harabasz Index: {calinski_harabasz}')\n",
    "print(f'Davies-Bouldin Index: {davies_bouldin}')"
   ]
  },
  {
   "cell_type": "code",
   "execution_count": 45,
   "metadata": {},
   "outputs": [
    {
     "name": "stdout",
     "output_type": "stream",
     "text": [
      "Silhouette Score: 0.48110323764868396\n",
      "Calinski-Harabasz Index: 232.1077619914683\n",
      "Davies-Bouldin Index: 0.8249899911301052\n"
     ]
    }
   ],
   "source": [
    "# Load the CSV file\n",
    "data = pd.read_csv(\"master_cluster_umap_1_(18).csv\")\n",
    "\n",
    "# Extract features and labels\n",
    "features = data.iloc[:, 2:-1]  # All columns except the first two and last\n",
    "labels = data.iloc[:, -1]  # Last column as labels\n",
    "\n",
    "# Calculate the silhouette score\n",
    "score = silhouette_score(features, labels)\n",
    "calinski_harabasz = calinski_harabasz_score(features, labels)\n",
    "davies_bouldin = davies_bouldin_score(features, labels)\n",
    "print(f'Silhouette Score: {score}')\n",
    "print(f'Calinski-Harabasz Index: {calinski_harabasz}')\n",
    "print(f'Davies-Bouldin Index: {davies_bouldin}')"
   ]
  },
  {
   "cell_type": "code",
   "execution_count": 17,
   "metadata": {},
   "outputs": [
    {
     "name": "stdout",
     "output_type": "stream",
     "text": [
      "Silhouette Score: 0.46048002492686296\n",
      "Calinski-Harabasz Index: 218.46369289418084\n",
      "Davies-Bouldin Index: 0.8346752791592671\n"
     ]
    }
   ],
   "source": [
    "# Load the CSV file\n",
    "data = pd.read_csv(\"master_cluster_umap_1_(19).csv\")\n",
    "\n",
    "# Extract features and labels\n",
    "features = data.iloc[:, 2:-1]  # All columns except the first two and last\n",
    "labels = data.iloc[:, -1]  # Last column as labels\n",
    "\n",
    "# Calculate the silhouette score\n",
    "score = silhouette_score(features, labels)\n",
    "calinski_harabasz = calinski_harabasz_score(features, labels)\n",
    "davies_bouldin = davies_bouldin_score(features, labels)\n",
    "print(f'Silhouette Score: {score}')\n",
    "print(f'Calinski-Harabasz Index: {calinski_harabasz}')\n",
    "print(f'Davies-Bouldin Index: {davies_bouldin}')"
   ]
  },
  {
   "cell_type": "code",
   "execution_count": 18,
   "metadata": {},
   "outputs": [
    {
     "name": "stdout",
     "output_type": "stream",
     "text": [
      "Silhouette Score: 0.4661931453010835\n",
      "Calinski-Harabasz Index: 230.82600771076602\n",
      "Davies-Bouldin Index: 0.8193535897402823\n"
     ]
    }
   ],
   "source": [
    "# Load the CSV file\n",
    "data = pd.read_csv(\"master_cluster_umap_1_(16).csv\")\n",
    "\n",
    "# Extract features and labels\n",
    "features = data.iloc[:, 2:-1]  # All columns except the first two and last\n",
    "labels = data.iloc[:, -1]  # Last column as labels\n",
    "\n",
    "# Calculate the silhouette score\n",
    "score = silhouette_score(features, labels)\n",
    "calinski_harabasz = calinski_harabasz_score(features, labels)\n",
    "davies_bouldin = davies_bouldin_score(features, labels)\n",
    "print(f'Silhouette Score: {score}')\n",
    "print(f'Calinski-Harabasz Index: {calinski_harabasz}')\n",
    "print(f'Davies-Bouldin Index: {davies_bouldin}')"
   ]
  },
  {
   "cell_type": "code",
   "execution_count": 19,
   "metadata": {},
   "outputs": [
    {
     "name": "stdout",
     "output_type": "stream",
     "text": [
      "Silhouette Score: 0.4592508775595514\n",
      "Calinski-Harabasz Index: 219.25786546202738\n",
      "Davies-Bouldin Index: 0.7959513425484649\n"
     ]
    }
   ],
   "source": [
    "# Load the CSV file\n",
    "data = pd.read_csv(\"master_cluster_umap_1_(17).csv\")\n",
    "\n",
    "# Extract features and labels\n",
    "features = data.iloc[:, 2:-1]  # All columns except the first two and last\n",
    "labels = data.iloc[:, -1]  # Last column as labels\n",
    "\n",
    "# Calculate the silhouette score\n",
    "score = silhouette_score(features, labels)\n",
    "calinski_harabasz = calinski_harabasz_score(features, labels)\n",
    "davies_bouldin = davies_bouldin_score(features, labels)\n",
    "print(f'Silhouette Score: {score}')\n",
    "print(f'Calinski-Harabasz Index: {calinski_harabasz}')\n",
    "print(f'Davies-Bouldin Index: {davies_bouldin}')"
   ]
  },
  {
   "cell_type": "code",
   "execution_count": 23,
   "metadata": {},
   "outputs": [
    {
     "name": "stdout",
     "output_type": "stream",
     "text": [
      "Silhouette Score: 0.47743116892903026\n",
      "Calinski-Harabasz Index: 246.98829270217738\n",
      "Davies-Bouldin Index: 0.745430277869587\n"
     ]
    }
   ],
   "source": [
    "# Load the CSV file\n",
    "data = pd.read_csv(\"master_cluster_umap_1_(50).csv\")\n",
    "\n",
    "# Extract features and labels\n",
    "features = data.iloc[:, 2:-1]  # All columns except the first two and last\n",
    "labels = data.iloc[:, -1]  # Last column as labels\n",
    "\n",
    "# Calculate the silhouette score\n",
    "score = silhouette_score(features, labels)\n",
    "calinski_harabasz = calinski_harabasz_score(features, labels)\n",
    "davies_bouldin = davies_bouldin_score(features, labels)\n",
    "print(f'Silhouette Score: {score}')\n",
    "print(f'Calinski-Harabasz Index: {calinski_harabasz}')\n",
    "print(f'Davies-Bouldin Index: {davies_bouldin}')"
   ]
  },
  {
   "cell_type": "code",
   "execution_count": 22,
   "metadata": {},
   "outputs": [
    {
     "name": "stdout",
     "output_type": "stream",
     "text": [
      "Silhouette Score: 0.46559691306003487\n",
      "Calinski-Harabasz Index: 204.01762676779617\n",
      "Davies-Bouldin Index: 0.7777247184450786\n"
     ]
    }
   ],
   "source": [
    "# Load the CSV file\n",
    "data = pd.read_csv(\"master_cluster_umap_1_(40).csv\")\n",
    "\n",
    "# Extract features and labels\n",
    "features = data.iloc[:, 2:-1]  # All columns except the first two and last\n",
    "labels = data.iloc[:, -1]  # Last column as labels\n",
    "\n",
    "# Calculate the silhouette score\n",
    "score = silhouette_score(features, labels)\n",
    "calinski_harabasz = calinski_harabasz_score(features, labels)\n",
    "davies_bouldin = davies_bouldin_score(features, labels)\n",
    "print(f'Silhouette Score: {score}')\n",
    "print(f'Calinski-Harabasz Index: {calinski_harabasz}')\n",
    "print(f'Davies-Bouldin Index: {davies_bouldin}')"
   ]
  },
  {
   "cell_type": "code",
   "execution_count": 24,
   "metadata": {},
   "outputs": [
    {
     "name": "stdout",
     "output_type": "stream",
     "text": [
      "Silhouette Score: 0.48073506788315573\n",
      "Calinski-Harabasz Index: 230.73268860323634\n",
      "Davies-Bouldin Index: 0.7252671849849425\n"
     ]
    }
   ],
   "source": [
    "# Load the CSV file\n",
    "data = pd.read_csv(\"master_cluster_umap_1_(70).csv\")\n",
    "\n",
    "# Extract features and labels\n",
    "features = data.iloc[:, 2:-1]  # All columns except the first two and last\n",
    "labels = data.iloc[:, -1]  # Last column as labels\n",
    "\n",
    "# Calculate the silhouette score\n",
    "score = silhouette_score(features, labels)\n",
    "calinski_harabasz = calinski_harabasz_score(features, labels)\n",
    "davies_bouldin = davies_bouldin_score(features, labels)\n",
    "print(f'Silhouette Score: {score}')\n",
    "print(f'Calinski-Harabasz Index: {calinski_harabasz}')\n",
    "print(f'Davies-Bouldin Index: {davies_bouldin}')"
   ]
  },
  {
   "cell_type": "code",
   "execution_count": 25,
   "metadata": {},
   "outputs": [
    {
     "name": "stdout",
     "output_type": "stream",
     "text": [
      "Silhouette Score: 0.44371583805309517\n",
      "Calinski-Harabasz Index: 183.64236934273342\n",
      "Davies-Bouldin Index: 0.9344177753104662\n"
     ]
    }
   ],
   "source": [
    "# Load the CSV file\n",
    "data = pd.read_csv(\"master_cluster_umap_1_(100).csv\")\n",
    "\n",
    "# Extract features and labels\n",
    "features = data.iloc[:, 2:-1]  # All columns except the first two and last\n",
    "labels = data.iloc[:, -1]  # Last column as labels\n",
    "\n",
    "# Calculate the silhouette score\n",
    "score = silhouette_score(features, labels)\n",
    "calinski_harabasz = calinski_harabasz_score(features, labels)\n",
    "davies_bouldin = davies_bouldin_score(features, labels)\n",
    "print(f'Silhouette Score: {score}')\n",
    "print(f'Calinski-Harabasz Index: {calinski_harabasz}')\n",
    "print(f'Davies-Bouldin Index: {davies_bouldin}')"
   ]
  },
  {
   "cell_type": "code",
   "execution_count": 26,
   "metadata": {},
   "outputs": [
    {
     "name": "stdout",
     "output_type": "stream",
     "text": [
      "Silhouette Score: 0.45735828715861515\n",
      "Calinski-Harabasz Index: 217.4214290472946\n",
      "Davies-Bouldin Index: 0.8534343028920636\n"
     ]
    }
   ],
   "source": [
    "# Load the CSV file\n",
    "data = pd.read_csv(\"master_cluster_umap_1_(80).csv\")\n",
    "\n",
    "# Extract features and labels\n",
    "features = data.iloc[:, 2:-1]  # All columns except the first two and last\n",
    "labels = data.iloc[:, -1]  # Last column as labels\n",
    "\n",
    "# Calculate the silhouette score\n",
    "score = silhouette_score(features, labels)\n",
    "calinski_harabasz = calinski_harabasz_score(features, labels)\n",
    "davies_bouldin = davies_bouldin_score(features, labels)\n",
    "print(f'Silhouette Score: {score}')\n",
    "print(f'Calinski-Harabasz Index: {calinski_harabasz}')\n",
    "print(f'Davies-Bouldin Index: {davies_bouldin}')"
   ]
  },
  {
   "cell_type": "code",
   "execution_count": 30,
   "metadata": {},
   "outputs": [
    {
     "name": "stdout",
     "output_type": "stream",
     "text": [
      "Silhouette Score: 0.38429824158666287\n",
      "Calinski-Harabasz Index: 137.37959547337576\n",
      "Davies-Bouldin Index: 0.578261840266634\n"
     ]
    }
   ],
   "source": [
    "# Load the CSV file\n",
    "data = pd.read_csv(\"master_cluster_dbscan_1__umap_(18).csv\")\n",
    "\n",
    "# Extract features and labels\n",
    "features = data.iloc[:, 2:-1]  # All columns except the first two and last\n",
    "labels = data.iloc[:, -1]  # Last column as labels\n",
    "\n",
    "# Calculate the silhouette score\n",
    "score = silhouette_score(features, labels)\n",
    "calinski_harabasz = calinski_harabasz_score(features, labels)\n",
    "davies_bouldin = davies_bouldin_score(features, labels)\n",
    "print(f'Silhouette Score: {score}')\n",
    "print(f'Calinski-Harabasz Index: {calinski_harabasz}')\n",
    "print(f'Davies-Bouldin Index: {davies_bouldin}')"
   ]
  },
  {
   "cell_type": "code",
   "execution_count": 31,
   "metadata": {},
   "outputs": [
    {
     "name": "stdout",
     "output_type": "stream",
     "text": [
      "Silhouette Score: 0.4650448180010179\n",
      "Calinski-Harabasz Index: 259.7873349339821\n",
      "Davies-Bouldin Index: 0.7720315397130596\n"
     ]
    }
   ],
   "source": [
    "# Load the CSV file\n",
    "data = pd.read_csv(\"master_cluster_umap_1_(2).csv\")\n",
    "\n",
    "# Extract features and labels\n",
    "features = data.iloc[:, 2:-1]  # All columns except the first two and last\n",
    "labels = data.iloc[:, -1]  # Last column as labels\n",
    "\n",
    "# Calculate the silhouette score\n",
    "score = silhouette_score(features, labels)\n",
    "calinski_harabasz = calinski_harabasz_score(features, labels)\n",
    "davies_bouldin = davies_bouldin_score(features, labels)\n",
    "print(f'Silhouette Score: {score}')\n",
    "print(f'Calinski-Harabasz Index: {calinski_harabasz}')\n",
    "print(f'Davies-Bouldin Index: {davies_bouldin}')"
   ]
  },
  {
   "cell_type": "code",
   "execution_count": 32,
   "metadata": {},
   "outputs": [
    {
     "name": "stdout",
     "output_type": "stream",
     "text": [
      "Silhouette Score: 0.42078698741496756\n",
      "Calinski-Harabasz Index: 120.89303513496509\n",
      "Davies-Bouldin Index: 0.8013055648013386\n"
     ]
    }
   ],
   "source": [
    "# Load the CSV file\n",
    "data = pd.read_csv(\"master_cluster_autoencoder_1.csv\")\n",
    "\n",
    "# Extract features and labels\n",
    "features = data.iloc[:, 2:-1]  # All columns except the first two and last\n",
    "labels = data.iloc[:, -1]  # Last column as labels\n",
    "\n",
    "# Calculate the silhouette score\n",
    "score = silhouette_score(features, labels)\n",
    "calinski_harabasz = calinski_harabasz_score(features, labels)\n",
    "davies_bouldin = davies_bouldin_score(features, labels)\n",
    "print(f'Silhouette Score: {score}')\n",
    "print(f'Calinski-Harabasz Index: {calinski_harabasz}')\n",
    "print(f'Davies-Bouldin Index: {davies_bouldin}')"
   ]
  },
  {
   "cell_type": "code",
   "execution_count": 33,
   "metadata": {},
   "outputs": [
    {
     "name": "stdout",
     "output_type": "stream",
     "text": [
      "Silhouette Score: 0.05947146627381279\n",
      "Calinski-Harabasz Index: 12.27360959084685\n",
      "Davies-Bouldin Index: 2.3389368221240145\n"
     ]
    }
   ],
   "source": [
    "# Load the CSV file\n",
    "data = pd.read_csv(\"master_cluster_autoencoder_10d_deep.csv\")\n",
    "\n",
    "# Extract features and labels\n",
    "features = data.iloc[:, 2:-1]  # All columns except the first two and last\n",
    "labels = data.iloc[:, -1]  # Last column as labels\n",
    "\n",
    "# Calculate the silhouette score\n",
    "score = silhouette_score(features, labels)\n",
    "calinski_harabasz = calinski_harabasz_score(features, labels)\n",
    "davies_bouldin = davies_bouldin_score(features, labels)\n",
    "print(f'Silhouette Score: {score}')\n",
    "print(f'Calinski-Harabasz Index: {calinski_harabasz}')\n",
    "print(f'Davies-Bouldin Index: {davies_bouldin}')"
   ]
  },
  {
   "cell_type": "code",
   "execution_count": 34,
   "metadata": {},
   "outputs": [
    {
     "name": "stdout",
     "output_type": "stream",
     "text": [
      "Silhouette Score: 0.03061224319025344\n",
      "Calinski-Harabasz Index: 12.285432075693151\n",
      "Davies-Bouldin Index: 2.51776419387276\n"
     ]
    }
   ],
   "source": [
    " #Load the CSV file\n",
    "data = pd.read_csv(\"master_cluster_autoencoder_simple.csv\")\n",
    "\n",
    "# Extract features and labels\n",
    "features = data.iloc[:, 2:-1]  # All columns except the first two and last\n",
    "labels = data.iloc[:, -1]  # Last column as labels\n",
    "\n",
    "# Calculate the silhouette score\n",
    "score = silhouette_score(features, labels)\n",
    "calinski_harabasz = calinski_harabasz_score(features, labels)\n",
    "davies_bouldin = davies_bouldin_score(features, labels)\n",
    "print(f'Silhouette Score: {score}')\n",
    "print(f'Calinski-Harabasz Index: {calinski_harabasz}')\n",
    "print(f'Davies-Bouldin Index: {davies_bouldin}')"
   ]
  },
  {
   "cell_type": "code",
   "execution_count": 35,
   "metadata": {},
   "outputs": [
    {
     "name": "stdout",
     "output_type": "stream",
     "text": [
      "Silhouette Score: 0.08057624231644353\n",
      "Calinski-Harabasz Index: 12.159667902300066\n",
      "Davies-Bouldin Index: 2.0465030743473007\n"
     ]
    }
   ],
   "source": [
    " #Load the CSV file\n",
    "data = pd.read_csv(\"master_cluster_autoencoder_5d_deep.csv\")\n",
    "\n",
    "# Extract features and labels\n",
    "features = data.iloc[:, 2:-1]  # All columns except the first two and last\n",
    "labels = data.iloc[:, -1]  # Last column as labels\n",
    "\n",
    "# Calculate the silhouette score\n",
    "score = silhouette_score(features, labels)\n",
    "calinski_harabasz = calinski_harabasz_score(features, labels)\n",
    "davies_bouldin = davies_bouldin_score(features, labels)\n",
    "print(f'Silhouette Score: {score}')\n",
    "print(f'Calinski-Harabasz Index: {calinski_harabasz}')\n",
    "print(f'Davies-Bouldin Index: {davies_bouldin}')"
   ]
  },
  {
   "cell_type": "code",
   "execution_count": 36,
   "metadata": {},
   "outputs": [
    {
     "name": "stdout",
     "output_type": "stream",
     "text": [
      "Silhouette Score: 0.058877637993250645\n",
      "Calinski-Harabasz Index: 15.11879243102242\n",
      "Davies-Bouldin Index: 2.434927988141568\n"
     ]
    }
   ],
   "source": [
    " #Load the CSV file\n",
    "data = pd.read_csv(\"master_cluster_autoencoder_simple_5.csv\")\n",
    "\n",
    "# Extract features and labels\n",
    "features = data.iloc[:, 2:-1]  # All columns except the first two and last\n",
    "labels = data.iloc[:, -1]  # Last column as labels\n",
    "\n",
    "# Calculate the silhouette score\n",
    "score = silhouette_score(features, labels)\n",
    "calinski_harabasz = calinski_harabasz_score(features, labels)\n",
    "davies_bouldin = davies_bouldin_score(features, labels)\n",
    "print(f'Silhouette Score: {score}')\n",
    "print(f'Calinski-Harabasz Index: {calinski_harabasz}')\n",
    "print(f'Davies-Bouldin Index: {davies_bouldin}')"
   ]
  },
  {
   "cell_type": "code",
   "execution_count": 39,
   "metadata": {},
   "outputs": [
    {
     "name": "stdout",
     "output_type": "stream",
     "text": [
      "Silhouette Score: 0.08943943640845904\n",
      "Calinski-Harabasz Index: 25.75246023958404\n",
      "Davies-Bouldin Index: 3.145129772426138\n"
     ]
    }
   ],
   "source": [
    " #Load the CSV file\n",
    "data = pd.read_csv(\"master_cluster_rm_umap_1_(18).csv\")\n",
    "\n",
    "# Extract features and labels\n",
    "features = data.iloc[:, 2:-1]  # All columns except the first two and last\n",
    "labels = data.iloc[:, -1]  # Last column as labels\n",
    "\n",
    "# Calculate the silhouette score\n",
    "score = silhouette_score(features, labels)\n",
    "calinski_harabasz = calinski_harabasz_score(features, labels)\n",
    "davies_bouldin = davies_bouldin_score(features, labels)\n",
    "print(f'Silhouette Score: {score}')\n",
    "print(f'Calinski-Harabasz Index: {calinski_harabasz}')\n",
    "print(f'Davies-Bouldin Index: {davies_bouldin}')"
   ]
  },
  {
   "cell_type": "code",
   "execution_count": 40,
   "metadata": {},
   "outputs": [
    {
     "name": "stdout",
     "output_type": "stream",
     "text": [
      "Silhouette Score: 0.48172104781056224\n",
      "Calinski-Harabasz Index: 231.90043003541254\n",
      "Davies-Bouldin Index: 0.8272835255642046\n"
     ]
    }
   ],
   "source": [
    "\n",
    " #Load the CSV file\n",
    "data = pd.read_csv(\"master_cluster_agg_umap_1_(18).csv\")\n",
    "\n",
    "# Extract features and labels\n",
    "features = data.iloc[:, 2:-1]  # All columns except the first two and last\n",
    "labels = data.iloc[:, -1]  # Last column as labels\n",
    "\n",
    "# Calculate the silhouette score\n",
    "score = silhouette_score(features, labels)\n",
    "calinski_harabasz = calinski_harabasz_score(features, labels)\n",
    "davies_bouldin = davies_bouldin_score(features, labels)\n",
    "print(f'Silhouette Score: {score}')\n",
    "print(f'Calinski-Harabasz Index: {calinski_harabasz}')\n",
    "print(f'Davies-Bouldin Index: {davies_bouldin}')"
   ]
  },
  {
   "cell_type": "code",
   "execution_count": 41,
   "metadata": {},
   "outputs": [
    {
     "name": "stdout",
     "output_type": "stream",
     "text": [
      "Silhouette Score: 0.48110323764868396\n",
      "Calinski-Harabasz Index: 232.1077619914683\n",
      "Davies-Bouldin Index: 0.8249899911301052\n"
     ]
    }
   ],
   "source": [
    " #Load the CSV file\n",
    "data = pd.read_csv(\"master_cluster_gmm_umap_1_(18).csv\")\n",
    "\n",
    "# Extract features and labels\n",
    "features = data.iloc[:, 2:-1]  # All columns except the first two and last\n",
    "labels = data.iloc[:, -1]  # Last column as labels\n",
    "\n",
    "# Calculate the silhouette score\n",
    "score = silhouette_score(features, labels)\n",
    "calinski_harabasz = calinski_harabasz_score(features, labels)\n",
    "davies_bouldin = davies_bouldin_score(features, labels)\n",
    "print(f'Silhouette Score: {score}')\n",
    "print(f'Calinski-Harabasz Index: {calinski_harabasz}')\n",
    "print(f'Davies-Bouldin Index: {davies_bouldin}')"
   ]
  },
  {
   "cell_type": "code",
   "execution_count": 44,
   "metadata": {},
   "outputs": [
    {
     "name": "stdout",
     "output_type": "stream",
     "text": [
      "Silhouette Score: 0.48110323764868396\n",
      "Calinski-Harabasz Index: 232.1077619914683\n",
      "Davies-Bouldin Index: 0.8249899911301052\n"
     ]
    }
   ],
   "source": [
    " #Load the CSV file\n",
    "data = pd.read_csv(\"master_cluster_ensemble_umap_1_(18).csv\")\n",
    "\n",
    "# Extract features and labels\n",
    "features = data.iloc[:, 2:-1]  # All columns except the first two and last\n",
    "labels = data.iloc[:, -1]  # Last column as labels\n",
    "\n",
    "# Calculate the silhouette score\n",
    "score = silhouette_score(features, labels)\n",
    "calinski_harabasz = calinski_harabasz_score(features, labels)\n",
    "davies_bouldin = davies_bouldin_score(features, labels)\n",
    "print(f'Silhouette Score: {score}')\n",
    "print(f'Calinski-Harabasz Index: {calinski_harabasz}')\n",
    "print(f'Davies-Bouldin Index: {davies_bouldin}')"
   ]
  },
  {
   "cell_type": "code",
   "execution_count": null,
   "metadata": {},
   "outputs": [],
   "source": []
  }
 ],
 "metadata": {
  "kernelspec": {
   "display_name": "Python 3",
   "language": "python",
   "name": "python3"
  },
  "language_info": {
   "codemirror_mode": {
    "name": "ipython",
    "version": 3
   },
   "file_extension": ".py",
   "mimetype": "text/x-python",
   "name": "python",
   "nbconvert_exporter": "python",
   "pygments_lexer": "ipython3",
   "version": "3.11.8"
  }
 },
 "nbformat": 4,
 "nbformat_minor": 2
}
