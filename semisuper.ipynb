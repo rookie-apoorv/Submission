{
 "cells": [
  {
   "cell_type": "code",
   "execution_count": 2,
   "metadata": {},
   "outputs": [
    {
     "name": "stdout",
     "output_type": "stream",
     "text": [
      "Silhouette Score after Semi-Supervised KMeans: 0.35961009734620347\n",
      "Clustering output saved to master_cluster_semi_supervised_kmeans.csv\n"
     ]
    }
   ],
   "source": [
    "import pandas as pd\n",
    "import numpy as np\n",
    "from sklearn.preprocessing import StandardScaler\n",
    "from sklearn.cluster import KMeans\n",
    "from sklearn.metrics import silhouette_score\n",
    "\n",
    "# Load your dataset (replace with the correct file path)\n",
    "file_path = 'master_file_umap_1_(18).csv'\n",
    "data = pd.read_csv(file_path)\n",
    "\n",
    "# Assuming the first column is file names and the next two columns are the UMAP-reduced features\n",
    "X = data.iloc[:, 1:19].values  # UMAP-reduced data (2 columns)\n",
    "file_names = data.iloc[:, 0]  # File names or identifiers\n",
    "\n",
    "# Normalize the features\n",
    "scaler = StandardScaler()\n",
    "X_normalized = scaler.fit_transform(X)\n",
    "\n",
    "# Specify known points and their corresponding labels (clusters)\n",
    "# Replace this with your actual known files and their corresponding cluster labels\n",
    "# These should be indices or positions in the dataset, not file names\n",
    "known_points_indices = [3,34,53,108,104,92,38,9,88,21,48]  # Example indices of known points (replace with actual indices)\n",
    "known_labels = [0,0,0,0,1,1,1,1,3,3,3]  # Corresponding cluster labels (replace with actual cluster labels)\n",
    "\n",
    "# Initialize cluster centroids using the mean of known points for each cluster\n",
    "unique_labels = np.unique(known_labels)\n",
    "initial_centroids = np.array([X_normalized[known_points_indices][np.array(known_labels) == label].mean(axis=0)\n",
    "                              for label in unique_labels])\n",
    "\n",
    "# Initialize KMeans with the known centroids\n",
    "n_clusters = len(unique_labels)  # Number of clusters from known labels\n",
    "kmeans = KMeans(n_clusters=n_clusters, init=initial_centroids, n_init=1, random_state=42)\n",
    "\n",
    "# Fit KMeans on the entire dataset\n",
    "label_predict = kmeans.fit_predict(X_normalized)\n",
    "\n",
    "# Evaluate the clustering with silhouette score\n",
    "silhouette_avg = silhouette_score(X_normalized, label_predict)\n",
    "print(f'Silhouette Score after Semi-Supervised KMeans: {silhouette_avg}')\n",
    "\n",
    "# Add the predicted clusters to the original data\n",
    "predict = data.copy()\n",
    "predict['cluster'] = label_predict\n",
    "\n",
    "# Save the final output\n",
    "output_file = 'master_cluster_semi_supervised_kmeans.csv'\n",
    "predict.to_csv(output_file, index=False)\n",
    "print(f'Clustering output saved to {output_file}')\n"
   ]
  },
  {
   "cell_type": "code",
   "execution_count": null,
   "metadata": {},
   "outputs": [],
   "source": []
  },
  {
   "cell_type": "code",
   "execution_count": null,
   "metadata": {},
   "outputs": [],
   "source": []
  }
 ],
 "metadata": {
  "kernelspec": {
   "display_name": "Python 3",
   "language": "python",
   "name": "python3"
  },
  "language_info": {
   "codemirror_mode": {
    "name": "ipython",
    "version": 3
   },
   "file_extension": ".py",
   "mimetype": "text/x-python",
   "name": "python",
   "nbconvert_exporter": "python",
   "pygments_lexer": "ipython3",
   "version": "3.11.8"
  }
 },
 "nbformat": 4,
 "nbformat_minor": 2
}
