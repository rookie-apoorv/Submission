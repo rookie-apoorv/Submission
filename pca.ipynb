{
 "cells": [
  {
   "cell_type": "code",
   "execution_count": 2,
   "metadata": {},
   "outputs": [
    {
     "name": "stdout",
     "output_type": "stream",
     "text": [
      "Number of components to retain 95% variance: 55\n",
      "PCA-transformed features saved to master_file_pca_3.csv\n"
     ]
    }
   ],
   "source": [
    "import pandas as pd\n",
    "from sklearn.decomposition import PCA\n",
    "from sklearn.preprocessing import StandardScaler\n",
    "\n",
    "# Load the CSV file\n",
    "file_path = \"master_file_3.csv\"  # Replace with your CSV file path\n",
    "df = pd.read_csv(file_path)\n",
    "\n",
    "# Separate filenames and feature columns\n",
    "filenames = df.iloc[:, 0]  # First column as filenames\n",
    "features = df.iloc[:, 1:]  # All other columns as features\n",
    "\n",
    "# Standardize the feature columns (PCA works better with standardized data)\n",
    "scaler = StandardScaler()\n",
    "features_scaled = scaler.fit_transform(features)\n",
    "\n",
    "# Apply PCA to keep 95% of the explained variance\n",
    "pca = PCA(n_components=0.95)\n",
    "features_pca = pca.fit_transform(features_scaled)\n",
    "\n",
    "# Check the number of components chosen to explain 95% of variance\n",
    "print(f\"Number of components to retain 95% variance: {pca.n_components_}\")\n",
    "\n",
    "# Create a new DataFrame with filenames and principal components\n",
    "pca_df = pd.DataFrame(features_pca, columns=[f'PC{i+1}' for i in range(pca.n_components_)])\n",
    "pca_df.insert(0, 'Filename', filenames)  # Insert filenames as the first column\n",
    "\n",
    "# Save the resulting DataFrame to a new CSV file\n",
    "output_path = \"master_file_pca_3.csv\"\n",
    "pca_df.to_csv(output_path, index=False)\n",
    "\n",
    "print(f\"PCA-transformed features saved to {output_path}\")\n"
   ]
  },
  {
   "cell_type": "code",
   "execution_count": null,
   "metadata": {},
   "outputs": [],
   "source": []
  }
 ],
 "metadata": {
  "kernelspec": {
   "display_name": "Python 3",
   "language": "python",
   "name": "python3"
  },
  "language_info": {
   "codemirror_mode": {
    "name": "ipython",
    "version": 3
   },
   "file_extension": ".py",
   "mimetype": "text/x-python",
   "name": "python",
   "nbconvert_exporter": "python",
   "pygments_lexer": "ipython3",
   "version": "3.11.8"
  }
 },
 "nbformat": 4,
 "nbformat_minor": 2
}
