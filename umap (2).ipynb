{
 "cells": [
  {
   "cell_type": "code",
   "execution_count": 3,
   "metadata": {},
   "outputs": [
    {
     "name": "stderr",
     "output_type": "stream",
     "text": [
      "c:\\Users\\DELL\\AppData\\Local\\Programs\\Python\\Python311\\Lib\\site-packages\\umap\\umap_.py:1952: UserWarning: n_jobs value 1 overridden to 1 by setting random_state. Use no seed for parallelism.\n",
      "  warn(\n"
     ]
    },
    {
     "name": "stdout",
     "output_type": "stream",
     "text": [
      "UMAP-transformed features saved to merged_master_umap.csv\n"
     ]
    }
   ],
   "source": [
    "import pandas as pd\n",
    "import umap\n",
    "from sklearn.preprocessing import StandardScaler\n",
    "\n",
    "# Load the CSV file\n",
    "file_path = \"merged_file.csv\"  # Replace with your CSV file path\n",
    "df = pd.read_csv(file_path)\n",
    "\n",
    "# Separate filenames and feature columns\n",
    "filenames = df.iloc[:, 0]  # First column as filenames\n",
    "features = df.iloc[:, 1:]  # All other columns as features\n",
    "\n",
    "# Standardize the feature columns (optional but often improves UMAP results)\n",
    "scaler = StandardScaler()\n",
    "features_scaled = scaler.fit_transform(features)\n",
    "\n",
    "# Apply UMAP for dimensionality reduction\n",
    "n_components = 18 # Number of dimensions to reduce to (e.g., 2 for visualization)\n",
    "umap_model = umap.UMAP(n_components=n_components, random_state=42)\n",
    "features_umap = umap_model.fit_transform(features_scaled)\n",
    "\n",
    "# Create a new DataFrame with filenames and UMAP components\n",
    "umap_df = pd.DataFrame(features_umap, columns=[f'UMAP_{i+1}' for i in range(n_components)])\n",
    "umap_df.insert(0, 'Filename', filenames)  # Insert filenames as the first column\n",
    "\n",
    "# Save the resulting DataFrame to a new CSV file\n",
    "output_path = \"merged_master_umap.csv\"\n",
    "umap_df.to_csv(output_path, index=False)\n",
    "\n",
    "print(f\"UMAP-transformed features saved to {output_path}\")\n"
   ]
  },
  {
   "cell_type": "code",
   "execution_count": 1,
   "metadata": {},
   "outputs": [
    {
     "name": "stdout",
     "output_type": "stream",
     "text": [
      "Number of components to retain 95% variance: 2\n",
      "PCA-transformed features saved to train_master_file_pca.csv\n"
     ]
    }
   ],
   "source": [
    "import pandas as pd\n",
    "from sklearn.decomposition import PCA\n",
    "from sklearn.preprocessing import StandardScaler\n",
    "\n",
    "# Load the CSV file\n",
    "file_path = \"train_master.csv\"  # Replace with your CSV file path\n",
    "df = pd.read_csv(file_path)\n",
    "\n",
    "# Separate filenames and feature columns\n",
    "filenames = df.iloc[:, 0]  # First column as filenames\n",
    "features = df.iloc[:, 1:]  # All other columns as features\n",
    "\n",
    "# Standardize the feature columns (PCA works better with standardized data)\n",
    "scaler = StandardScaler()\n",
    "features_scaled = scaler.fit_transform(features)\n",
    "\n",
    "# Apply PCA to keep 95% of the explained variance\n",
    "pca = PCA(n_components=2)\n",
    "features_pca = pca.fit_transform(features_scaled)\n",
    "\n",
    "# Check the number of components chosen to explain 95% of variance\n",
    "print(f\"Number of components to retain 95% variance: {pca.n_components_}\")\n",
    "\n",
    "# Create a new DataFrame with filenames and principal components\n",
    "pca_df = pd.DataFrame(features_pca, columns=[f'PC{i+1}' for i in range(pca.n_components_)])\n",
    "pca_df.insert(0, 'Filename', filenames)  # Insert filenames as the first column\n",
    "\n",
    "# Save the resulting DataFrame to a new CSV file\n",
    "output_path = \"train_master_file_pca.csv\"\n",
    "pca_df.to_csv(output_path, index=False)\n",
    "\n",
    "print(f\"PCA-transformed features saved to {output_path}\")\n"
   ]
  },
  {
   "cell_type": "code",
   "execution_count": null,
   "metadata": {},
   "outputs": [],
   "source": []
  }
 ],
 "metadata": {
  "kernelspec": {
   "display_name": "Python 3",
   "language": "python",
   "name": "python3"
  },
  "language_info": {
   "codemirror_mode": {
    "name": "ipython",
    "version": 3
   },
   "file_extension": ".py",
   "mimetype": "text/x-python",
   "name": "python",
   "nbconvert_exporter": "python",
   "pygments_lexer": "ipython3",
   "version": "3.11.8"
  }
 },
 "nbformat": 4,
 "nbformat_minor": 2
}
