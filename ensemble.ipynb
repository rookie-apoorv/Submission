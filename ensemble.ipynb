{
 "cells": [
  {
   "cell_type": "code",
   "execution_count": 2,
   "metadata": {},
   "outputs": [],
   "source": [
    "import numpy as np\n",
    "from sklearn.cluster import KMeans, AgglomerativeClustering\n",
    "from sklearn.metrics import pairwise_distances\n",
    "from scipy.cluster.hierarchy import linkage, fcluster\n",
    "import pandas as pd\n",
    "\n",
    "# Load and preprocess data\n",
    "file_path = 'master_file_umap_1_(18).csv'\n",
    "data = pd.read_csv(file_path)\n",
    "X = data.iloc[:, 1:19].values\n",
    "\n",
    "# Perform multiple clustering runs (e.g., KMeans and Agglomerative)\n",
    "n_clusters = 6\n",
    "kmeans_1 = KMeans(n_clusters=n_clusters, random_state=42).fit(X)\n",
    "kmeans_2 = KMeans(n_clusters=n_clusters, random_state=100).fit(X)\n",
    "agg_1 = AgglomerativeClustering(n_clusters=n_clusters, linkage='ward').fit(X)\n",
    "\n",
    "# Combine cluster labels (Stack the predicted labels)\n",
    "cluster_labels = np.vstack([kmeans_1.labels_, kmeans_2.labels_, agg_1.labels_])\n",
    "\n",
    "# Create a co-association matrix (i.e., agreement between clustering runs)\n",
    "n_samples = X.shape[0]\n",
    "co_association_matrix = np.zeros((n_samples, n_samples))\n",
    "\n",
    "for i in range(n_samples):\n",
    "    for j in range(n_samples):\n",
    "        # Count how often points i and j are clustered together across the methods\n",
    "        co_association_matrix[i, j] = np.sum(cluster_labels[:, i] == cluster_labels[:, j])\n",
    "\n",
    "# Normalize the co-association matrix (Optional: to convert into a similarity matrix)\n",
    "co_association_matrix /= cluster_labels.shape[0]\n",
    "\n",
    "# Apply hierarchical clustering to the co-association matrix\n",
    "Z = linkage(co_association_matrix, method='average')\n",
    "final_labels = fcluster(Z, t=n_clusters, criterion='maxclust')\n",
    "\n",
    "# Save the ensemble results\n",
    "predict = data\n",
    "predict['cluster'] = final_labels\n",
    "predict.to_csv('master_cluster_ensemble_umap_1_(18).csv')\n"
   ]
  },
  {
   "cell_type": "code",
   "execution_count": null,
   "metadata": {},
   "outputs": [],
   "source": []
  }
 ],
 "metadata": {
  "kernelspec": {
   "display_name": "Python 3",
   "language": "python",
   "name": "python3"
  },
  "language_info": {
   "codemirror_mode": {
    "name": "ipython",
    "version": 3
   },
   "file_extension": ".py",
   "mimetype": "text/x-python",
   "name": "python",
   "nbconvert_exporter": "python",
   "pygments_lexer": "ipython3",
   "version": "3.11.8"
  }
 },
 "nbformat": 4,
 "nbformat_minor": 2
}
