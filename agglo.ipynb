{
 "cells": [
  {
   "cell_type": "code",
   "execution_count": 2,
   "metadata": {},
   "outputs": [],
   "source": [
    "from sklearn.preprocessing import StandardScaler\n",
    "from sklearn.cluster import AgglomerativeClustering\n",
    "import pandas as pd\n",
    "\n",
    "# Load and preprocess data\n",
    "file_path = 'master_file_umap_1_(18).csv'\n",
    "data = pd.read_csv(file_path)\n",
    "X = data.iloc[:, 1:19].values\n",
    "file_names = data.iloc[:, 0]\n",
    "\n",
    "# Normalize the data\n",
    "scaler = StandardScaler()\n",
    "X_normalized = scaler.fit_transform(X)\n",
    "\n",
    "# Perform Agglomerative Clustering\n",
    "n_clusters = 6\n",
    "agg_clustering = AgglomerativeClustering(n_clusters=n_clusters, metric='euclidean', linkage='ward')\n",
    "label_predict = agg_clustering.fit_predict(X_normalized)\n",
    "\n",
    "# Save the results\n",
    "predict = data\n",
    "predict['cluster'] = label_predict\n",
    "predict.to_csv('master_cluster_agg_umap_1_(18).csv')\n"
   ]
  },
  {
   "cell_type": "code",
   "execution_count": null,
   "metadata": {},
   "outputs": [],
   "source": []
  }
 ],
 "metadata": {
  "kernelspec": {
   "display_name": "Python 3",
   "language": "python",
   "name": "python3"
  },
  "language_info": {
   "codemirror_mode": {
    "name": "ipython",
    "version": 3
   },
   "file_extension": ".py",
   "mimetype": "text/x-python",
   "name": "python",
   "nbconvert_exporter": "python",
   "pygments_lexer": "ipython3",
   "version": "3.11.8"
  }
 },
 "nbformat": 4,
 "nbformat_minor": 2
}
