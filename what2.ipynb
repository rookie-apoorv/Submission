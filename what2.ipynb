{
 "cells": [
  {
   "cell_type": "code",
   "execution_count": 2,
   "metadata": {},
   "outputs": [
    {
     "ename": "ModuleNotFoundError",
     "evalue": "No module named 'dask'",
     "output_type": "error",
     "traceback": [
      "\u001b[1;31m---------------------------------------------------------------------------\u001b[0m",
      "\u001b[1;31mModuleNotFoundError\u001b[0m                       Traceback (most recent call last)",
      "Cell \u001b[1;32mIn[2], line 5\u001b[0m\n\u001b[0;32m      3\u001b[0m \u001b[38;5;28;01mimport\u001b[39;00m \u001b[38;5;21;01mseaborn\u001b[39;00m \u001b[38;5;28;01mas\u001b[39;00m \u001b[38;5;21;01msns\u001b[39;00m\n\u001b[0;32m      4\u001b[0m \u001b[38;5;28;01mimport\u001b[39;00m \u001b[38;5;21;01mmatplotlib\u001b[39;00m\u001b[38;5;21;01m.\u001b[39;00m\u001b[38;5;21;01mpyplot\u001b[39;00m \u001b[38;5;28;01mas\u001b[39;00m \u001b[38;5;21;01mplt\u001b[39;00m\n\u001b[1;32m----> 5\u001b[0m \u001b[38;5;28;01mimport\u001b[39;00m \u001b[38;5;21;01mdask\u001b[39;00m\u001b[38;5;21;01m.\u001b[39;00m\u001b[38;5;21;01mdataframe\u001b[39;00m \u001b[38;5;28;01mas\u001b[39;00m \u001b[38;5;21;01mdd\u001b[39;00m\n",
      "\u001b[1;31mModuleNotFoundError\u001b[0m: No module named 'dask'"
     ]
    }
   ],
   "source": [
    "import numpy as np\n",
    "import pandas as pd\n",
    "import seaborn as sns\n",
    "import matplotlib.pyplot as plt\n",
    "import dask.dataframe as dd"
   ]
  },
  {
   "cell_type": "code",
   "execution_count": null,
   "metadata": {},
   "outputs": [],
   "source": [
    "# Set the number of files you want to process\n",
    "num_files = 50\n",
    "cols = 5  # Number of columns in the grid\n",
    "rows = (num_files // cols) + (num_files % cols > 0)  # Calculate number of rows needed\n",
    "\n",
    "plt.figure(figsize=(20, 4 * rows))  # Adjust figure size as needed\n",
    "\n",
    "# Loop through each file and create a heatmap\n",
    "for i in range(1, num_files + 1):\n",
    "    # Format the filename to match your files (e.g., \"01-MFCC.csv\")\n",
    "    csv_file = f\"{i:02d}-MFCC.csv\"\n",
    "\n",
    "    # Load the CSV file using Dask without treating the first row as header\n",
    "    data = dd.read_csv(csv_file, header=None)\n",
    "\n",
    "    # Drop the first row (index 0) and convert to pandas DataFrame\n",
    "    data = data.drop(index=0).compute()  # Convert Dask DataFrame to pandas DataFrame\n",
    "\n",
    "    # Create a subplot for the heatmap\n",
    "    plt.subplot(rows, cols, i)  # Create a grid of subplots\n",
    "    sns.heatmap(data, cmap='viridis', cbar=False)  # You can choose other colormaps too\n",
    "\n",
    "    # Set title for the subplot\n",
    "    plt.title(csv_file)\n",
    "\n",
    "# Adjust layout\n",
    "plt.tight_layout()\n",
    "plt.show()"
   ]
  }
 ],
 "metadata": {
  "kernelspec": {
   "display_name": "Python 3",
   "language": "python",
   "name": "python3"
  },
  "language_info": {
   "codemirror_mode": {
    "name": "ipython",
    "version": 3
   },
   "file_extension": ".py",
   "mimetype": "text/x-python",
   "name": "python",
   "nbconvert_exporter": "python",
   "pygments_lexer": "ipython3",
   "version": "3.11.8"
  }
 },
 "nbformat": 4,
 "nbformat_minor": 2
}
