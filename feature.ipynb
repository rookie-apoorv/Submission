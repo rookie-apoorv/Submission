{
 "cells": [
  {
   "cell_type": "code",
   "execution_count": 4,
   "metadata": {},
   "outputs": [],
   "source": [
    "import numpy as np\n",
    "import pandas as pd\n",
    "import librosa\n",
    "import glob\n",
    "from scipy.stats import skew, kurtosis\n",
    "from sklearn.preprocessing import StandardScaler\n",
    "from sklearn.cluster import KMeans\n",
    "\n",
    "# Directory where the MFCC CSV files are stored\n",
    "data_dir = \"path_to_your_mfcc_files\"  # Replace with your path\n",
    "\n",
    "# Function to compute statistical summaries for each feature type\n",
    "def compute_statistics(feature_matrix, feature_type):\n",
    "    # Initialize lists for each statistic type\n",
    "    means, stds, mins, maxs, skews, kurts = [], [], [], [], [], []\n",
    "    \n",
    "    for i in range(feature_matrix.shape[0]):\n",
    "        means.append(np.mean(feature_matrix[i, :]))\n",
    "        stds.append(np.std(feature_matrix[i, :]))\n",
    "        mins.append(np.min(feature_matrix[i, :]))\n",
    "        maxs.append(np.max(feature_matrix[i, :]))\n",
    "        skews.append(skew(feature_matrix[i, :]))\n",
    "        kurts.append(kurtosis(feature_matrix[i, :]))\n",
    "\n",
    "    # Feature names in the specified order (all means, all stds, etc.)\n",
    "    mean_names = [f\"{feature_type}_mean_{i+1}\" for i in range(feature_matrix.shape[0])]\n",
    "    std_names = [f\"{feature_type}_std_{i+1}\" for i in range(feature_matrix.shape[0])]\n",
    "    min_names = [f\"{feature_type}_min_{i+1}\" for i in range(feature_matrix.shape[0])]\n",
    "    max_names = [f\"{feature_type}_max_{i+1}\" for i in range(feature_matrix.shape[0])]\n",
    "    skew_names = [f\"{feature_type}_skew_{i+1}\" for i in range(feature_matrix.shape[0])]\n",
    "    kurt_names = [f\"{feature_type}_kurt_{i+1}\" for i in range(feature_matrix.shape[0])]\n",
    "\n",
    "    # Return ordered features and names\n",
    "    return means + stds + mins + maxs + skews + kurts, mean_names + std_names + min_names + max_names + skew_names + kurt_names\n",
    "\n",
    "# Process each CSV file and extract features\n",
    "all_song_features = []\n",
    "all_file_names = []\n",
    "feature_names = None\n",
    "\n",
    "file_names = glob.glob('*-MFCC.csv')\n",
    "# file_names = ['national_anthem_mfcc.csv'] +[\"Michael Jackson - Thriller (Official 4K Video) [sOnqjkJTMaA]-MFCC.csv\"]+[\"Michael Jackson - Beat It (Official 4K Video) [oRdxUFDoQe0]-MFCC.csv\"] + glob.glob('*-MFCC.csv') \n",
    "for file_name in file_names:\n",
    "\n",
    "    mfcc_data = pd.read_csv(file_name, header=None).values  # Load MFCC data\n",
    "\n",
    "    # Compute delta and delta-delta\n",
    "    delta_mfcc = librosa.feature.delta(mfcc_data)\n",
    "    delta2_mfcc = librosa.feature.delta(mfcc_data, order=2)\n",
    "\n",
    "    # Compute statistical summaries for each feature type in the specified order\n",
    "    mfcc_stats, mfcc_names = compute_statistics(mfcc_data, \"mfcc\")\n",
    "    delta_stats, delta_names = compute_statistics(delta_mfcc, \"delta\")\n",
    "    delta2_stats, delta2_names = compute_statistics(delta2_mfcc, \"delta2\")\n",
    "\n",
    "    # Concatenate features for the song\n",
    "    song_features = mfcc_stats + delta_stats + delta2_stats\n",
    "    all_song_features.append(song_features)\n",
    "\n",
    "    # Capture file name\n",
    "    all_file_names.append(file_name)\n",
    "\n",
    "    # Capture feature names only once\n",
    "    if feature_names is None:\n",
    "        feature_names = [\"file_name\"] + mfcc_names + delta_names + delta2_names\n",
    "\n",
    "# Convert list of feature vectors to a DataFrame with feature names as column headers\n",
    "feature_df = pd.DataFrame(all_song_features, columns=feature_names[1:])\n",
    "feature_df.insert(0, \"file_name\", all_file_names) "
   ]
  },
  {
   "cell_type": "code",
   "execution_count": 7,
   "metadata": {},
   "outputs": [],
   "source": [
    "feature_df.to_csv('train_master.csv')"
   ]
  },
  {
   "cell_type": "code",
   "execution_count": null,
   "metadata": {},
   "outputs": [],
   "source": []
  }
 ],
 "metadata": {
  "kernelspec": {
   "display_name": "Python 3",
   "language": "python",
   "name": "python3"
  },
  "language_info": {
   "codemirror_mode": {
    "name": "ipython",
    "version": 3
   },
   "file_extension": ".py",
   "mimetype": "text/x-python",
   "name": "python",
   "nbconvert_exporter": "python",
   "pygments_lexer": "ipython3",
   "version": "3.11.8"
  }
 },
 "nbformat": 4,
 "nbformat_minor": 2
}
